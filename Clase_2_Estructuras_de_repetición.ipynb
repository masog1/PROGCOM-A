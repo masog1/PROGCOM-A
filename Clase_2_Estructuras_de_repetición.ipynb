{
  "nbformat": 4,
  "nbformat_minor": 0,
  "metadata": {
    "colab": {
      "provenance": [],
      "authorship_tag": "ABX9TyMq++AJgM+mQ1Y9MI3OHybk",
      "include_colab_link": true
    },
    "kernelspec": {
      "name": "python3",
      "display_name": "Python 3"
    },
    "language_info": {
      "name": "python"
    }
  },
  "cells": [
    {
      "cell_type": "markdown",
      "metadata": {
        "id": "view-in-github",
        "colab_type": "text"
      },
      "source": [
        "<a href=\"https://colab.research.google.com/github/masog1/PROGCOM-A/blob/main/Clase_2_Estructuras_de_repetici%C3%B3n.ipynb\" target=\"_parent\"><img src=\"https://colab.research.google.com/assets/colab-badge.svg\" alt=\"Open In Colab\"/></a>"
      ]
    },
    {
      "cell_type": "code",
      "execution_count": null,
      "metadata": {
        "id": "p3CcP8CAIl1b"
      },
      "outputs": [],
      "source": []
    },
    {
      "cell_type": "markdown",
      "source": [
        "#Estructuras de repetición\n",
        "permite repetir una o más acciones de acuerdo con una condición (mientras se cumpla la condición)"
      ],
      "metadata": {
        "id": "MQ5v2vBFQCsJ"
      }
    },
    {
      "cell_type": "markdown",
      "source": [
        "##Estructura para - for\n",
        "\n",
        "\n",
        "1.   Cuando se sabe cuántas veces se repite una acción.\n",
        "2.   Está conformado por una condición inicial (CI) una condición final (CF) y pasos (frecuencia de repeticion).\n",
        "3. Esta estructura no se detendrá,hasta alcanzar CF-1\n",
        "\n",
        "Estructura general del for\n",
        "\n",
        "```\n",
        "for (variable) in range (CI,CF+1,paso):\n",
        " Se repite (CF+1-CI)/paso veces por una acción\n",
        "```\n",
        "Estructura resumida del for\n",
        "\n",
        "```\n",
        "for (variable) in range (cantidad):\n",
        " Se repite cantidad de veces una acción\n",
        "```\n",
        "Estructura for como iteración\n",
        "1.   El para (for) itera tantas veces como elementos tenga la lista\n",
        "2.   La variable toma el valor de cada elemento de la lista por iteración\n",
        "\n",
        "\n",
        "```\n",
        "Lista=[1,2,3,4,5]\n",
        "for (variable) in Lista:\n",
        "Se repite len(lista)\n",
        "\n",
        "> Añadir blockquote\n",
        "\n",
        "\n",
        "```\n",
        "\n",
        "\n",
        "\n",
        "\n",
        "\n"
      ],
      "metadata": {
        "id": "LM16e653QgER"
      }
    },
    {
      "cell_type": "code",
      "source": [
        "1 #Hacer la tabla de multiplicar de un número n\n",
        "n=int(input(\"Digita un número:\"))"
      ],
      "metadata": {
        "colab": {
          "base_uri": "https://localhost:8080/"
        },
        "id": "bFniJGYzSmfg",
        "outputId": "583793f7-ff02-425d-d225-c7194facc3dd"
      },
      "execution_count": null,
      "outputs": [
        {
          "name": "stdout",
          "output_type": "stream",
          "text": [
            "Digita un número:9\n"
          ]
        }
      ]
    },
    {
      "cell_type": "code",
      "source": [
        "print (f\"Tabla del {n}\")\n",
        "for holitas in range (1,11,1):\n",
        "  print(f\"{holitas}x{n}={n*holitas}\")"
      ],
      "metadata": {
        "colab": {
          "base_uri": "https://localhost:8080/"
        },
        "id": "uaOXuyKkTjyf",
        "outputId": "a5a6957f-e9da-4ed2-f958-d67bec6a7560"
      },
      "execution_count": null,
      "outputs": [
        {
          "output_type": "stream",
          "name": "stdout",
          "text": [
            "Tabla del 9\n",
            "1x9=9\n",
            "2x9=18\n",
            "3x9=27\n",
            "4x9=36\n",
            "5x9=45\n",
            "6x9=54\n",
            "7x9=63\n",
            "8x9=72\n",
            "9x9=81\n",
            "10x9=90\n"
          ]
        }
      ]
    },
    {
      "cell_type": "code",
      "source": [
        "print(\"Tablas del 1 al 10\\n\")\n",
        "print(\"\")\n",
        "for tabla in range (1,11,1):\n",
        "  print(f\"Tabla del{tabla}\")\n",
        "  for numero in range (1,11,1):\n",
        "    print(f\"{tabla}x{numero}={tabla*numero}\")\n",
        "print(\"\")"
      ],
      "metadata": {
        "colab": {
          "base_uri": "https://localhost:8080/"
        },
        "id": "gmeqq3FjV859",
        "outputId": "14ac1096-96f4-4111-9ae0-80e330016c67"
      },
      "execution_count": null,
      "outputs": [
        {
          "output_type": "stream",
          "name": "stdout",
          "text": [
            "Tablas del 1 al 10\n",
            "\n",
            "\n",
            "Tabla del1\n",
            "1x1=1\n",
            "1x2=2\n",
            "1x3=3\n",
            "1x4=4\n",
            "1x5=5\n",
            "1x6=6\n",
            "1x7=7\n",
            "1x8=8\n",
            "1x9=9\n",
            "1x10=10\n",
            "Tabla del2\n",
            "2x1=2\n",
            "2x2=4\n",
            "2x3=6\n",
            "2x4=8\n",
            "2x5=10\n",
            "2x6=12\n",
            "2x7=14\n",
            "2x8=16\n",
            "2x9=18\n",
            "2x10=20\n",
            "Tabla del3\n",
            "3x1=3\n",
            "3x2=6\n",
            "3x3=9\n",
            "3x4=12\n",
            "3x5=15\n",
            "3x6=18\n",
            "3x7=21\n",
            "3x8=24\n",
            "3x9=27\n",
            "3x10=30\n",
            "Tabla del4\n",
            "4x1=4\n",
            "4x2=8\n",
            "4x3=12\n",
            "4x4=16\n",
            "4x5=20\n",
            "4x6=24\n",
            "4x7=28\n",
            "4x8=32\n",
            "4x9=36\n",
            "4x10=40\n",
            "Tabla del5\n",
            "5x1=5\n",
            "5x2=10\n",
            "5x3=15\n",
            "5x4=20\n",
            "5x5=25\n",
            "5x6=30\n",
            "5x7=35\n",
            "5x8=40\n",
            "5x9=45\n",
            "5x10=50\n",
            "Tabla del6\n",
            "6x1=6\n",
            "6x2=12\n",
            "6x3=18\n",
            "6x4=24\n",
            "6x5=30\n",
            "6x6=36\n",
            "6x7=42\n",
            "6x8=48\n",
            "6x9=54\n",
            "6x10=60\n",
            "Tabla del7\n",
            "7x1=7\n",
            "7x2=14\n",
            "7x3=21\n",
            "7x4=28\n",
            "7x5=35\n",
            "7x6=42\n",
            "7x7=49\n",
            "7x8=56\n",
            "7x9=63\n",
            "7x10=70\n",
            "Tabla del8\n",
            "8x1=8\n",
            "8x2=16\n",
            "8x3=24\n",
            "8x4=32\n",
            "8x5=40\n",
            "8x6=48\n",
            "8x7=56\n",
            "8x8=64\n",
            "8x9=72\n",
            "8x10=80\n",
            "Tabla del9\n",
            "9x1=9\n",
            "9x2=18\n",
            "9x3=27\n",
            "9x4=36\n",
            "9x5=45\n",
            "9x6=54\n",
            "9x7=63\n",
            "9x8=72\n",
            "9x9=81\n",
            "9x10=90\n",
            "Tabla del10\n",
            "10x1=10\n",
            "10x2=20\n",
            "10x3=30\n",
            "10x4=40\n",
            "10x5=50\n",
            "10x6=60\n",
            "10x7=70\n",
            "10x8=80\n",
            "10x9=90\n",
            "10x10=100\n",
            "\n"
          ]
        }
      ]
    },
    {
      "cell_type": "code",
      "source": [
        "print (f\"Tabla del {n}\")\n",
        "for holitas in range (10):\n",
        "  print(f\"{n}x{holitas+1}={n*(holitas+1)}\")"
      ],
      "metadata": {
        "colab": {
          "base_uri": "https://localhost:8080/"
        },
        "id": "7G6SgFRwYbNj",
        "outputId": "7776b695-02a8-4d36-dcbd-d7f5cf4420a3"
      },
      "execution_count": null,
      "outputs": [
        {
          "output_type": "stream",
          "name": "stdout",
          "text": [
            "Tabla del 9\n",
            "9x1=9\n",
            "9x2=18\n",
            "9x3=27\n",
            "9x4=36\n",
            "9x5=45\n",
            "9x6=54\n",
            "9x7=63\n",
            "9x8=72\n",
            "9x9=81\n",
            "9x10=90\n"
          ]
        }
      ]
    },
    {
      "cell_type": "code",
      "source": [
        "n=7\n",
        "print (f\"tabla del {n} \")\n",
        "for holitas in range(1,10*n,n):\n",
        "  print(f\"{n} x {int(holitas/n)}={n*int(holitas/n)}\")"
      ],
      "metadata": {
        "colab": {
          "base_uri": "https://localhost:8080/"
        },
        "id": "lODnf3P_Zk9y",
        "outputId": "9fb0c1fd-835c-4bbb-b74b-722d2eb315be"
      },
      "execution_count": null,
      "outputs": [
        {
          "output_type": "stream",
          "name": "stdout",
          "text": [
            "tabla del 7 \n",
            "7 x 0=0\n",
            "7 x 1=7\n",
            "7 x 2=14\n",
            "7 x 3=21\n",
            "7 x 4=28\n",
            "7 x 5=35\n",
            "7 x 6=42\n",
            "7 x 7=49\n",
            "7 x 8=56\n",
            "7 x 9=63\n"
          ]
        }
      ]
    },
    {
      "cell_type": "code",
      "source": [
        "numeros=[1,2,3,4,5,6,7,8,9,10]\n",
        "for num in numeros:\n",
        "  print(f\"{n}x{num}={n*num}\")\n",
        "\n"
      ],
      "metadata": {
        "id": "4gD0HwEzfbDN"
      },
      "execution_count": null,
      "outputs": []
    },
    {
      "cell_type": "code",
      "source": [
        "numeros2=list(range(1,11))\n",
        "numeros2"
      ],
      "metadata": {
        "colab": {
          "base_uri": "https://localhost:8080/"
        },
        "id": "Igrastn7gR5s",
        "outputId": "0577fddf-a541-4fe5-83fe-adba6a559b82"
      },
      "execution_count": null,
      "outputs": [
        {
          "output_type": "execute_result",
          "data": {
            "text/plain": [
              "[1, 2, 3, 4, 5, 6, 7, 8, 9, 10]"
            ]
          },
          "metadata": {},
          "execution_count": 34
        }
      ]
    },
    {
      "cell_type": "code",
      "source": [
        "for num in numeros2:\n",
        "  print(f\"{n}x{num}={n*num}\")"
      ],
      "metadata": {
        "colab": {
          "base_uri": "https://localhost:8080/"
        },
        "id": "MAsTxruYgfwT",
        "outputId": "f1161293-fd0f-4d51-99a8-e56c8819c701"
      },
      "execution_count": null,
      "outputs": [
        {
          "output_type": "stream",
          "name": "stdout",
          "text": [
            "7x1=7\n",
            "7x2=14\n",
            "7x3=21\n",
            "7x4=28\n",
            "7x5=35\n",
            "7x6=42\n",
            "7x7=49\n",
            "7x8=56\n",
            "7x9=63\n",
            "7x10=70\n"
          ]
        }
      ]
    },
    {
      "cell_type": "markdown",
      "source": [
        "#listas\n",
        "\n",
        "\n",
        "1.   Es un tipo de datos\n",
        "2.   Todos los elementos de la lita **deben** estar separados por coma\n",
        "3.   Forma canónica para declarar una lista\n",
        "\n",
        "\n",
        "(variable)=[]\n",
        "\n",
        "ejemplo:flores=[\"amapola\",\"tulipan\",\"lengua de suegra\",dahlia,rosa]\n",
        "\n"
      ],
      "metadata": {
        "id": "rNRA5RWPxpnn"
      }
    },
    {
      "cell_type": "code",
      "source": [
        "dahlia=3 #variable de tipo numerica, int\n",
        "rosa=\"cinco\" #variable de tipo alfanumérico, str\n",
        "flores=[\"amapola\",\"tulipan\",\"lengua de suegra\", dahlia,rosa]"
      ],
      "metadata": {
        "id": "rVeBF2GUyOQQ"
      },
      "execution_count": null,
      "outputs": []
    },
    {
      "cell_type": "markdown",
      "source": [
        "4.  Manual.\n",
        "\n",
        "```\n",
        "Lista 2=[dato1,dato2,dato3...datoN]\n",
        "```\n",
        "\n",
        "5. siempre son finitas\n",
        "6. son indexadas\n",
        "\n",
        "\n",
        "```\n",
        "Lista2=[dato1,dato2,dato3...datoN]\n",
        "```\n",
        "\n",
        "dato1 está en el index 0\n",
        "dato2 está ubicado en el index 1\n",
        "\n",
        "7. Estructuras **para** para la creación de listas\n",
        "\n",
        "```\n",
        "#Ejemplo: crear una lista de 5 elementos de lista=[] #Para que el programa sepa que es una lista\n",
        "for loquesea in range(5):\n",
        " lista=input(\"ingrese el nombre de una flor\")\n",
        "\n",
        "\n"
      ],
      "metadata": {
        "id": "TBsyOGFPymN3"
      }
    },
    {
      "cell_type": "code",
      "source": [
        "lista=[]\n",
        "for loquesea in range(5):\n",
        "  lista.append(loqueseainput (\"ingrese el nombre de una flor \")"
      ],
      "metadata": {
        "id": "L-e5f4am1wcN"
      },
      "execution_count": null,
      "outputs": []
    },
    {
      "cell_type": "markdown",
      "source": [
        "saber quien esta en la ultima posición"
      ],
      "metadata": {
        "id": "etYDTMd04P86"
      }
    },
    {
      "cell_type": "code",
      "source": [
        "flores"
      ],
      "metadata": {
        "id": "VTLOaIHW4QaS"
      },
      "execution_count": null,
      "outputs": []
    },
    {
      "cell_type": "code",
      "source": [
        "#quiero saber quién esta en la primera posición\n",
        "flores[0]"
      ],
      "metadata": {
        "id": "AKbTshcA5DGR"
      },
      "execution_count": null,
      "outputs": []
    },
    {
      "cell_type": "markdown",
      "source": [
        "saber quien esta en la ultima posición"
      ],
      "metadata": {
        "id": "k4erc9qn5FVh"
      }
    },
    {
      "cell_type": "code",
      "source": [
        "flores[4]"
      ],
      "metadata": {
        "id": "h-SPO21L5LQA"
      },
      "execution_count": null,
      "outputs": []
    },
    {
      "cell_type": "code",
      "source": [
        "len(flores)"
      ],
      "metadata": {
        "id": "OakdNHJf5NCY"
      },
      "execution_count": null,
      "outputs": []
    },
    {
      "cell_type": "code",
      "source": [
        "flores[len(flores)-1]"
      ],
      "metadata": {
        "id": "zT1dMtfY5O55"
      },
      "execution_count": null,
      "outputs": []
    },
    {
      "cell_type": "markdown",
      "source": [
        "**1**"
      ],
      "metadata": {
        "id": "MoCjNdqy9Sak"
      }
    },
    {
      "cell_type": "code",
      "source": [
        "for i in range(1, 11):\n",
        "    print(i)\n"
      ],
      "metadata": {
        "colab": {
          "base_uri": "https://localhost:8080/"
        },
        "id": "VNyqihoo9X8F",
        "outputId": "c3c0e5d2-b097-4a51-ed5b-cddf7fd0ff68"
      },
      "execution_count": null,
      "outputs": [
        {
          "output_type": "stream",
          "name": "stdout",
          "text": [
            "1\n",
            "2\n",
            "3\n",
            "4\n",
            "5\n",
            "6\n",
            "7\n",
            "8\n",
            "9\n",
            "10\n"
          ]
        }
      ]
    },
    {
      "cell_type": "code",
      "source": [
        "numeros = list(range(1, 11))\n",
        "for n in numeros:\n",
        "    print(n)\n"
      ],
      "metadata": {
        "colab": {
          "base_uri": "https://localhost:8080/"
        },
        "id": "XqGC_SKX-BXT",
        "outputId": "0ccb11a6-ea2f-402b-ea40-a2110e4588cc"
      },
      "execution_count": null,
      "outputs": [
        {
          "output_type": "stream",
          "name": "stdout",
          "text": [
            "1\n",
            "2\n",
            "3\n",
            "4\n",
            "5\n",
            "6\n",
            "7\n",
            "8\n",
            "9\n",
            "10\n"
          ]
        }
      ]
    },
    {
      "cell_type": "markdown",
      "source": [
        "**2**"
      ],
      "metadata": {
        "id": "5VtKe8bi-EMU"
      }
    },
    {
      "cell_type": "code",
      "source": [
        "suma = 0\n",
        "for i in range(1, 101):\n",
        "    suma += i\n",
        "print(\"La suma es:\", suma)\n"
      ],
      "metadata": {
        "colab": {
          "base_uri": "https://localhost:8080/"
        },
        "id": "OR70b5XC-FZL",
        "outputId": "49da47b0-3041-4051-c024-cfd1bbbfcf9b"
      },
      "execution_count": null,
      "outputs": [
        {
          "output_type": "stream",
          "name": "stdout",
          "text": [
            "La suma es: 5050\n"
          ]
        }
      ]
    },
    {
      "cell_type": "code",
      "source": [
        "numeros = list(range(1, 101))\n",
        "suma = sum(numeros)\n",
        "print(\"La suma es:\", suma)\n"
      ],
      "metadata": {
        "colab": {
          "base_uri": "https://localhost:8080/"
        },
        "id": "WApD4gts-IeL",
        "outputId": "d1679e69-de7e-47fc-c919-9a4f0b227e53"
      },
      "execution_count": null,
      "outputs": [
        {
          "output_type": "stream",
          "name": "stdout",
          "text": [
            "La suma es: 5050\n"
          ]
        }
      ]
    },
    {
      "cell_type": "markdown",
      "source": [
        "**3**"
      ],
      "metadata": {
        "id": "laiUvtIx-KkT"
      }
    },
    {
      "cell_type": "code",
      "source": [
        "for i in range(1, 31):\n",
        "    if i % 3 == 0:\n",
        "        print(i)\n"
      ],
      "metadata": {
        "colab": {
          "base_uri": "https://localhost:8080/"
        },
        "id": "Y8E7rKm6-LZ7",
        "outputId": "838f4eaa-9f69-4841-cfe0-979669461c06"
      },
      "execution_count": null,
      "outputs": [
        {
          "output_type": "stream",
          "name": "stdout",
          "text": [
            "3\n",
            "6\n",
            "9\n",
            "12\n",
            "15\n",
            "18\n",
            "21\n",
            "24\n",
            "27\n",
            "30\n"
          ]
        }
      ]
    },
    {
      "cell_type": "code",
      "source": [
        "multiplos = [n for n in range(1, 31) if n % 3 == 0]\n",
        "for m in multiplos:\n",
        "    print(m)\n"
      ],
      "metadata": {
        "colab": {
          "base_uri": "https://localhost:8080/"
        },
        "id": "TosPk5EP-N_D",
        "outputId": "665d8ee6-e521-4375-f1c1-b2bae155c13a"
      },
      "execution_count": null,
      "outputs": [
        {
          "output_type": "stream",
          "name": "stdout",
          "text": [
            "3\n",
            "6\n",
            "9\n",
            "12\n",
            "15\n",
            "18\n",
            "21\n",
            "24\n",
            "27\n",
            "30\n"
          ]
        }
      ]
    },
    {
      "cell_type": "markdown",
      "source": [
        "**4**"
      ],
      "metadata": {
        "id": "d59X_6Mp-QYr"
      }
    },
    {
      "cell_type": "code",
      "source": [
        "num = int(input(\"Ingresa un número: \"))\n",
        "for i in range(1, 11):\n",
        "    print(f\"{num} x {i} = {num*i}\")\n"
      ],
      "metadata": {
        "colab": {
          "base_uri": "https://localhost:8080/"
        },
        "id": "SHDtnXe9-Rdz",
        "outputId": "1f780351-5a6c-4555-8a04-f5c111bc48ca"
      },
      "execution_count": null,
      "outputs": [
        {
          "output_type": "stream",
          "name": "stdout",
          "text": [
            "Ingresa un número: 8\n",
            "8 x 1 = 8\n",
            "8 x 2 = 16\n",
            "8 x 3 = 24\n",
            "8 x 4 = 32\n",
            "8 x 5 = 40\n",
            "8 x 6 = 48\n",
            "8 x 7 = 56\n",
            "8 x 8 = 64\n",
            "8 x 9 = 72\n",
            "8 x 10 = 80\n"
          ]
        }
      ]
    },
    {
      "cell_type": "code",
      "source": [
        "num = int(input(\"Ingresa un número: \"))\n",
        "tabla = [f\"{num} x {i} = {num*i}\" for i in range(1, 11)]\n",
        "for linea in tabla:\n",
        "    print(linea)\n"
      ],
      "metadata": {
        "colab": {
          "base_uri": "https://localhost:8080/"
        },
        "id": "wTGLU-KQ-Wjb",
        "outputId": "f71dcabb-ca67-4a1c-8573-4e99899f52ad"
      },
      "execution_count": null,
      "outputs": [
        {
          "output_type": "stream",
          "name": "stdout",
          "text": [
            "Ingresa un número: 8\n",
            "8 x 1 = 8\n",
            "8 x 2 = 16\n",
            "8 x 3 = 24\n",
            "8 x 4 = 32\n",
            "8 x 5 = 40\n",
            "8 x 6 = 48\n",
            "8 x 7 = 56\n",
            "8 x 8 = 64\n",
            "8 x 9 = 72\n",
            "8 x 10 = 80\n"
          ]
        }
      ]
    },
    {
      "cell_type": "markdown",
      "source": [
        "**5**"
      ],
      "metadata": {
        "id": "-JziLuYA-ZF7"
      }
    },
    {
      "cell_type": "code",
      "source": [
        "suma = 0\n",
        "for i in range(5):\n",
        "    num = float(input(f\"Ingrese el número {i+1}: \"))\n",
        "    suma += num\n",
        "promedio = suma / 5\n",
        "print(\"El promedio es:\", promedio)\n"
      ],
      "metadata": {
        "colab": {
          "base_uri": "https://localhost:8080/"
        },
        "id": "16mSMsnI-aaT",
        "outputId": "e9c54d14-3a4b-4680-9897-4f92773aae0f"
      },
      "execution_count": null,
      "outputs": [
        {
          "output_type": "stream",
          "name": "stdout",
          "text": [
            "Ingrese el número 1: 5\n",
            "Ingrese el número 2: 6\n",
            "Ingrese el número 3: 8\n",
            "Ingrese el número 4: 9\n",
            "Ingrese el número 5: 4\n",
            "El promedio es: 6.4\n"
          ]
        }
      ]
    },
    {
      "cell_type": "code",
      "source": [
        "numeros = [float(input(f\"Ingrese el número {i+1}: \")) for i in range(5)]\n",
        "promedio = sum(numeros) / len(numeros)\n",
        "print(\"El promedio es:\", promedio)\n"
      ],
      "metadata": {
        "colab": {
          "base_uri": "https://localhost:8080/"
        },
        "id": "PTIpx33_-eIL",
        "outputId": "49d8cef0-1e12-4a41-d4cd-1bcdb7269560"
      },
      "execution_count": null,
      "outputs": [
        {
          "output_type": "stream",
          "name": "stdout",
          "text": [
            "Ingrese el número 1: 5\n",
            "Ingrese el número 2: 6\n",
            "Ingrese el número 3: 8\n",
            "Ingrese el número 4: 1\n",
            "Ingrese el número 5: 9\n",
            "El promedio es: 5.8\n"
          ]
        }
      ]
    },
    {
      "cell_type": "markdown",
      "source": [
        "**6**"
      ],
      "metadata": {
        "id": "CP9fgXIp-gRl"
      }
    },
    {
      "cell_type": "code",
      "source": [
        "5n = int(input(\"Ingrese un número: \"))\n",
        "contador = 0\n",
        "for i in range(1, n+1):\n",
        "    if i % 2 == 0:\n",
        "        contador += 1\n",
        "print(\"Cantidad de pares:\", contador)\n"
      ],
      "metadata": {
        "colab": {
          "base_uri": "https://localhost:8080/"
        },
        "id": "ayb_4Xzg-iHz",
        "outputId": "e73b18c3-7ee5-499b-e4d3-b2b705451342"
      },
      "execution_count": null,
      "outputs": [
        {
          "output_type": "stream",
          "name": "stdout",
          "text": [
            "Ingrese un número: 4\n",
            "Cantidad de pares: 2\n"
          ]
        }
      ]
    },
    {
      "cell_type": "code",
      "source": [
        "n = int(input(\"Ingrese un número: \"))\n",
        "pares = [i for i in range(1, n+1) if i % 2 == 0]\n",
        "print(\"Cantidad de pares:\", len(pares))\n"
      ],
      "metadata": {
        "colab": {
          "base_uri": "https://localhost:8080/"
        },
        "id": "OZYEEWRw-k6y",
        "outputId": "d6774586-f58a-4a77-cfc9-f412d3bfbca0"
      },
      "execution_count": null,
      "outputs": [
        {
          "output_type": "stream",
          "name": "stdout",
          "text": [
            "Ingrese un número: 6\n",
            "Cantidad de pares: 3\n"
          ]
        }
      ]
    },
    {
      "cell_type": "markdown",
      "source": [
        "**7**"
      ],
      "metadata": {
        "id": "OSXTRJPx-npz"
      }
    },
    {
      "cell_type": "code",
      "source": [
        "apellido = input(\"Ingresa tu apellido: \")\n",
        "contraseña_valida = apellido + str(len(apellido))\n",
        "\n",
        "for _ in range(100):  # límite de intentos para no ser infinito\n",
        "    password = input(\"Ingresa tu contraseña: \")\n",
        "    if password == contraseña_valida:\n",
        "        print(\"¡Contraseña correcta!\")\n",
        "        break  #sirve para romper\n"
      ],
      "metadata": {
        "colab": {
          "base_uri": "https://localhost:8080/"
        },
        "id": "bdJDZGPt-oqU",
        "outputId": "5baf5bb5-0595-4e6e-a817-ae55dfd79486"
      },
      "execution_count": null,
      "outputs": [
        {
          "output_type": "stream",
          "name": "stdout",
          "text": [
            "Ingresa tu apellido: hola4\n",
            "Ingresa tu contraseña: hola45\n",
            "¡Contraseña correcta!\n"
          ]
        }
      ]
    },
    {
      "cell_type": "code",
      "source": [
        "apellido = input(\"Ingresa tu apellido: \")\n",
        "contraseña_valida = apellido + str(len(apellido))\n",
        "\n",
        "# lista infinita simulada con iter(int, 1)\n",
        "for _ in iter(int, 1):\n",
        "    password = input(\"Ingresa tu contraseña: \")\n",
        "    if password == contraseña_valida:\n",
        "        print(\"¡Contraseña correcta!\")\n",
        "        break\n"
      ],
      "metadata": {
        "colab": {
          "base_uri": "https://localhost:8080/"
        },
        "id": "mk_5ctbM-rZC",
        "outputId": "64aa5b49-0c4e-46b9-f47b-f520508ae946"
      },
      "execution_count": null,
      "outputs": [
        {
          "output_type": "stream",
          "name": "stdout",
          "text": [
            "Ingresa tu apellido: hola\n",
            "Ingresa tu contraseña: hola4\n",
            "¡Contraseña correcta!\n"
          ]
        }
      ]
    }
  ]
}