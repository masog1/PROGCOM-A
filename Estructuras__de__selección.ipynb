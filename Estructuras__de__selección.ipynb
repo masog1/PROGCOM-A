{
  "nbformat": 4,
  "nbformat_minor": 0,
  "metadata": {
    "colab": {
      "provenance": [],
      "authorship_tag": "ABX9TyPmnEA/gYPTu5dJ71RAosnw",
      "include_colab_link": true
    },
    "kernelspec": {
      "name": "python3",
      "display_name": "Python 3"
    },
    "language_info": {
      "name": "python"
    }
  },
  "cells": [
    {
      "cell_type": "markdown",
      "metadata": {
        "id": "view-in-github",
        "colab_type": "text"
      },
      "source": [
        "<a href=\"https://colab.research.google.com/github/masog1/PROGCOM-A/blob/main/Estructuras__de__selecci%C3%B3n.ipynb\" target=\"_parent\"><img src=\"https://colab.research.google.com/assets/colab-badge.svg\" alt=\"Open In Colab\"/></a>"
      ]
    },
    {
      "cell_type": "code",
      "execution_count": null,
      "metadata": {
        "id": "9lcnXLPjb47c"
      },
      "outputs": [],
      "source": []
    },
    {
      "cell_type": "markdown",
      "source": [
        "**6**"
      ],
      "metadata": {
        "id": "u-nswbrpcXTw"
      }
    },
    {
      "cell_type": "code",
      "source": [
        "a = int(input(\"Ingrese el primer número: \"))\n",
        "b = int(input(\"Ingrese el segundo número: \"))\n",
        "c = int(input(\"Ingrese el tercer número: \"))\n",
        "\n",
        "if a >= b and a >= c:\n",
        "    print(\"El mayor es:\", a)\n",
        "else:\n",
        "    if b >= c:\n",
        "        print(\"El mayor es:\", b)\n",
        "    else:\n",
        "        print(\"El mayor es:\", c)\n"
      ],
      "metadata": {
        "colab": {
          "base_uri": "https://localhost:8080/"
        },
        "id": "pDHL6XN6cYiJ",
        "outputId": "05bdb087-a4a6-4337-d032-aa4524d7076f"
      },
      "execution_count": 1,
      "outputs": [
        {
          "output_type": "stream",
          "name": "stdout",
          "text": [
            "Ingrese el primer número: 2\n",
            "Ingrese el segundo número: 30\n",
            "Ingrese el tercer número: 100\n",
            "El mayor es: 100\n"
          ]
        }
      ]
    },
    {
      "cell_type": "code",
      "source": [
        "a = int(input(\"Ingrese el primer número: \"))\n",
        "b = int(input(\"Ingrese el segundo número: \"))\n",
        "c = int(input(\"Ingrese el tercer número: \"))\n",
        "\n",
        "if a >= b and a >= c:\n",
        "    print(\"El mayor es:\", a)\n",
        "elif b >= c:\n",
        "    print(\"El mayor es:\", b)\n",
        "else:\n",
        "    print(\"El mayor es:\", c)\n"
      ],
      "metadata": {
        "colab": {
          "base_uri": "https://localhost:8080/"
        },
        "id": "W2pYV55rchNF",
        "outputId": "17829387-6844-4870-8c0e-ee7045e06c84"
      },
      "execution_count": 2,
      "outputs": [
        {
          "output_type": "stream",
          "name": "stdout",
          "text": [
            "Ingrese el primer número: 6\n",
            "Ingrese el segundo número: 7\n",
            "Ingrese el tercer número: 8\n",
            "El mayor es: 8\n"
          ]
        }
      ]
    },
    {
      "cell_type": "code",
      "source": [
        "a = int(input(\"Ingrese el primer número: \"))\n",
        "b = int(input(\"Ingrese el segundo número: \"))\n",
        "c = int(input(\"Ingrese el tercer número: \"))\n",
        "\n",
        "mayor = a if a >= b and a >= c else b if b >= c else c\n",
        "print(\"El mayor es:\", mayor)\n"
      ],
      "metadata": {
        "id": "DzxXlnObcmCD"
      },
      "execution_count": null,
      "outputs": []
    },
    {
      "cell_type": "markdown",
      "source": [
        "**7**"
      ],
      "metadata": {
        "id": "G_jMvmdrcpQ-"
      }
    },
    {
      "cell_type": "code",
      "source": [
        "anio = int(input(\"Ingrese un año: \"))\n",
        "\n",
        "if (anio % 4 == 0 and anio % 100 != 0) or (anio % 400 == 0):\n",
        "    print(\"Es bisiesto\")\n",
        "else:\n",
        "    print(\"No es bisiesto\")\n"
      ],
      "metadata": {
        "colab": {
          "base_uri": "https://localhost:8080/"
        },
        "id": "7EWe7Xahcq_S",
        "outputId": "f9504d46-5981-4c05-8fe7-8e03606d2377"
      },
      "execution_count": 3,
      "outputs": [
        {
          "output_type": "stream",
          "name": "stdout",
          "text": [
            "Ingrese un año: 2050\n",
            "No es bisiesto\n"
          ]
        }
      ]
    },
    {
      "cell_type": "code",
      "source": [
        "anio = int(input(\"Ingrese un año: \"))\n",
        "\n",
        "if anio % 400 == 0:\n",
        "    print(\"Es bisiesto\")\n",
        "elif anio % 100 == 0:\n",
        "    print(\"No es bisiesto\")\n",
        "elif anio % 4 == 0:\n",
        "    print(\"Es bisiesto\")\n",
        "else:\n",
        "    print(\"No es bisiesto\")\n"
      ],
      "metadata": {
        "id": "R1GH019qcvGS"
      },
      "execution_count": null,
      "outputs": []
    },
    {
      "cell_type": "code",
      "source": [
        "anio = int(input(\"Ingrese un año: \"))\n",
        "print(\"Es bisiesto\" if (anio % 4 == 0 and anio % 100 != 0) or (anio % 400 == 0) else \"No es bisiesto\")\n"
      ],
      "metadata": {
        "id": "OSXowdUycxp1"
      },
      "execution_count": null,
      "outputs": []
    },
    {
      "cell_type": "markdown",
      "source": [
        "**8**"
      ],
      "metadata": {
        "id": "iF6SejXdc03b"
      }
    },
    {
      "cell_type": "code",
      "source": [
        "contraseña = input(\"Ingrese una contraseña: \")\n",
        "\n",
        "tiene_numero = any(c.isdigit() for c in contraseña)\n",
        "tiene_mayuscula = any(c.isupper() for c in contraseña)\n",
        "\n",
        "if len(contraseña) > 8 and tiene_numero and tiene_mayuscula:\n",
        "    print(\"Contraseña válida\")\n",
        "else:\n",
        "    print(\"Contraseña inválida\")\n"
      ],
      "metadata": {
        "colab": {
          "base_uri": "https://localhost:8080/"
        },
        "id": "usNFad0Pc2gs",
        "outputId": "90167a0e-6ccc-43ac-b932-41f28dcd72e2"
      },
      "execution_count": 4,
      "outputs": [
        {
          "output_type": "stream",
          "name": "stdout",
          "text": [
            "Ingrese una contraseña: Teamo\n",
            "Contraseña inválida\n"
          ]
        }
      ]
    },
    {
      "cell_type": "code",
      "source": [
        "contraseña = input(\"Ingrese una contraseña: \")\n",
        "\n",
        "tiene_numero = any(c.isdigit() for c in contraseña)\n",
        "tiene_mayuscula = any(c.isupper() for c in contraseña)\n",
        "\n",
        "if len(contraseña) <= 8:\n",
        "    print(\"Debe tener más de 8 caracteres\")\n",
        "elif not tiene_numero:\n",
        "    print(\"Debe contener al menos un número\")\n",
        "elif not tiene_mayuscula:\n",
        "    print(\"Debe contener al menos una letra mayúscula\")\n",
        "else:\n",
        "    print(\"Contraseña válida\")\n"
      ],
      "metadata": {
        "id": "DXex4Zmrc5Us"
      },
      "execution_count": null,
      "outputs": []
    },
    {
      "cell_type": "code",
      "source": [
        "contraseña = input(\"Ingrese una contraseña: \")\n",
        "\n",
        "print(\"Contraseña válida\" if len(contraseña) > 8 and any(c.isdigit() for c in contraseña) and any(c.isupper() for c in contraseña) else \"Contraseña inválida\")\n"
      ],
      "metadata": {
        "id": "U-sr3ovyc9J2"
      },
      "execution_count": null,
      "outputs": []
    },
    {
      "cell_type": "markdown",
      "source": [
        "**9**"
      ],
      "metadata": {
        "id": "Eh3iqvbzdBTx"
      }
    },
    {
      "cell_type": "code",
      "source": [
        "numero = int(input(\"Ingrese un número: \"))\n",
        "\n",
        "if numero % 3 == 0 and numero % 5 == 0:\n",
        "    print(\"FizzBuzz\")\n",
        "else:\n",
        "    if numero % 3 == 0:\n",
        "        print(\"Fizz\")\n",
        "    else:\n",
        "        if numero % 5 == 0:\n",
        "            print(\"Buzz\")\n",
        "        else:\n",
        "            print(numero)\n"
      ],
      "metadata": {
        "id": "7j435arldChm"
      },
      "execution_count": null,
      "outputs": []
    },
    {
      "cell_type": "code",
      "source": [
        "numero = int(input(\"Ingrese un número: \"))\n",
        "\n",
        "if numero % 3 == 0 and numero % 5 == 0:\n",
        "    print(\"FizzBuzz\")\n",
        "elif numero % 3 == 0:\n",
        "    print(\"Fizz\")\n",
        "elif numero % 5 == 0:\n",
        "    print(\"Buzz\")\n",
        "else:\n",
        "    print(numero)\n"
      ],
      "metadata": {
        "id": "3Y-LbTPEdFXS"
      },
      "execution_count": null,
      "outputs": []
    },
    {
      "cell_type": "code",
      "source": [
        "numero = int(input(\"Ingrese un número: \"))\n",
        "print(\"FizzBuzz\" if numero % 3 == 0 and numero % 5 == 0 else \"Fizz\" if numero % 3 == 0 else \"Buzz\" if numero % 5 == 0 else numero)\n"
      ],
      "metadata": {
        "id": "6TTUCrrKdHuS"
      },
      "execution_count": null,
      "outputs": []
    },
    {
      "cell_type": "markdown",
      "source": [
        "**10**"
      ],
      "metadata": {
        "id": "N7GOQo6qdKgU"
      }
    },
    {
      "cell_type": "code",
      "source": [
        "saldo = 1000\n",
        "retiro = float(input(\"Ingrese el monto a retirar: \"))\n",
        "\n",
        "if retiro <= saldo:\n",
        "    print(\"Retiro exitoso. Saldo restante:\", saldo - retiro)\n",
        "else:\n",
        "    print(\"Fondos insuficientes\")\n"
      ],
      "metadata": {
        "id": "e7F7_MMFdR_z"
      },
      "execution_count": null,
      "outputs": []
    },
    {
      "cell_type": "code",
      "source": [
        "saldo = 1000\n",
        "retiro = float(input(\"Ingrese el monto a retirar: \"))\n",
        "\n",
        "if retiro < 0:\n",
        "    print(\"Monto inválido\")\n",
        "elif retiro <= saldo:\n",
        "    print(\"Retiro exitoso. Saldo restante:\", saldo - retiro)\n",
        "else:\n",
        "    print(\"Fondos insuficientes\")\n"
      ],
      "metadata": {
        "id": "p8m7IUlPdX5a"
      },
      "execution_count": null,
      "outputs": []
    },
    {
      "cell_type": "code",
      "source": [
        "saldo = 1000\n",
        "retiro = float(input(\"Ingrese el monto a retirar: \"))\n",
        "\n",
        "print(\"Retiro exitoso. Saldo restante: \" + str(saldo - retiro) if retiro <= saldo else \"Fondos insuficientes\")\n"
      ],
      "metadata": {
        "id": "1plOQ2yedbFl"
      },
      "execution_count": null,
      "outputs": []
    }
  ]
}