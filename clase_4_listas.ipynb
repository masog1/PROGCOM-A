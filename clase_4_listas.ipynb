{
  "nbformat": 4,
  "nbformat_minor": 0,
  "metadata": {
    "colab": {
      "provenance": [],
      "authorship_tag": "ABX9TyOAK+Lt7NUwkX0Kyz76uGj6",
      "include_colab_link": true
    },
    "kernelspec": {
      "name": "python3",
      "display_name": "Python 3"
    },
    "language_info": {
      "name": "python"
    }
  },
  "cells": [
    {
      "cell_type": "markdown",
      "metadata": {
        "id": "view-in-github",
        "colab_type": "text"
      },
      "source": [
        "<a href=\"https://colab.research.google.com/github/masog1/PROGCOM-A/blob/main/clase_4_listas.ipynb\" target=\"_parent\"><img src=\"https://colab.research.google.com/assets/colab-badge.svg\" alt=\"Open In Colab\"/></a>"
      ]
    },
    {
      "cell_type": "markdown",
      "source": [
        "#Listas\n",
        "1. Conjunto de datos\n",
        "2. Es mutable\n",
        "3. Tienen indexación"
      ],
      "metadata": {
        "id": "MkCdFKErCns_"
      }
    },
    {
      "cell_type": "code",
      "source": [
        "lista = [\"maría\",4,True,\"hola\"]\n",
        "lista[0]"
      ],
      "metadata": {
        "colab": {
          "base_uri": "https://localhost:8080/",
          "height": 35
        },
        "id": "Ag2EUgQMD-QN",
        "outputId": "e43ffb06-9b45-493d-e6d0-6bc05c484992"
      },
      "execution_count": 9,
      "outputs": [
        {
          "output_type": "execute_result",
          "data": {
            "text/plain": [
              "'maría'"
            ],
            "application/vnd.google.colaboratory.intrinsic+json": {
              "type": "string"
            }
          },
          "metadata": {},
          "execution_count": 9
        }
      ]
    },
    {
      "cell_type": "code",
      "source": [
        "4. son ordenadas\n",
        "Forma genérica\n",
        "\n",
        "nombre_de_la_lista[e1,e2,e3......en]"
      ],
      "metadata": {
        "colab": {
          "base_uri": "https://localhost:8080/",
          "height": 106
        },
        "id": "qH-YXz4eFHUN",
        "outputId": "bdc92a96-7154-4736-f1b4-544610fd3c20"
      },
      "execution_count": 4,
      "outputs": [
        {
          "output_type": "error",
          "ename": "SyntaxError",
          "evalue": "invalid syntax (ipython-input-1319554184.py, line 1)",
          "traceback": [
            "\u001b[0;36m  File \u001b[0;32m\"/tmp/ipython-input-1319554184.py\"\u001b[0;36m, line \u001b[0;32m1\u001b[0m\n\u001b[0;31m    4. son ordenadas\u001b[0m\n\u001b[0m       ^\u001b[0m\n\u001b[0;31mSyntaxError\u001b[0m\u001b[0;31m:\u001b[0m invalid syntax\n"
          ]
        }
      ]
    },
    {
      "cell_type": "markdown",
      "metadata": {
        "id": "1adfbdf0"
      },
      "source": [
        "4. son ordenadas\n",
        "Forma genérica\n",
        "\n",
        "nombre_de_la_lista[e1,e2,e3......en]"
      ]
    },
    {
      "cell_type": "code",
      "source": [
        "#obtener el último elemento de la lista\n",
        "lista[len(lista)-1]"
      ],
      "metadata": {
        "colab": {
          "base_uri": "https://localhost:8080/",
          "height": 159
        },
        "id": "4rwR-gMZErBk",
        "outputId": "c458d905-2823-43fe-a3f6-f7611ec04f2f"
      },
      "execution_count": 3,
      "outputs": [
        {
          "output_type": "error",
          "ename": "NameError",
          "evalue": "name 'lista' is not defined",
          "traceback": [
            "\u001b[0;31m---------------------------------------------------------------------------\u001b[0m",
            "\u001b[0;31mNameError\u001b[0m                                 Traceback (most recent call last)",
            "\u001b[0;32m/tmp/ipython-input-177296030.py\u001b[0m in \u001b[0;36m<cell line: 0>\u001b[0;34m()\u001b[0m\n\u001b[1;32m      1\u001b[0m \u001b[0;31m#obtener el último elemento de la lista\u001b[0m\u001b[0;34m\u001b[0m\u001b[0;34m\u001b[0m\u001b[0m\n\u001b[0;32m----> 2\u001b[0;31m \u001b[0mlista\u001b[0m\u001b[0;34m[\u001b[0m\u001b[0mlen\u001b[0m\u001b[0;34m(\u001b[0m\u001b[0mlista\u001b[0m\u001b[0;34m)\u001b[0m\u001b[0;34m-\u001b[0m\u001b[0;36m1\u001b[0m\u001b[0;34m]\u001b[0m\u001b[0;34m\u001b[0m\u001b[0;34m\u001b[0m\u001b[0m\n\u001b[0m",
            "\u001b[0;31mNameError\u001b[0m: name 'lista' is not defined"
          ]
        }
      ]
    },
    {
      "cell_type": "code",
      "source": [
        "1lista[:-1]"
      ],
      "metadata": {
        "id": "aAWQ9dE0FN0s"
      },
      "execution_count": null,
      "outputs": []
    },
    {
      "cell_type": "code",
      "source": [
        "for i in lista:\n",
        "#va a iterar 4 veces\n",
        "#i va a tomar por vez el elemento de la lista\n",
        " print(i)\n",
        ""
      ],
      "metadata": {
        "id": "Uqn7k54gGpqV"
      },
      "execution_count": null,
      "outputs": []
    },
    {
      "cell_type": "code",
      "source": [
        "#lista por extesión\n",
        "num=[1,2,3,4,5,6,7,8,9,10]\n",
        "#lista por comprensión\n",
        "num2=list(range(1;11))\n",
        "print(num2)"
      ],
      "metadata": {
        "id": "FOTan1S_HXSL"
      },
      "execution_count": null,
      "outputs": []
    },
    {
      "cell_type": "markdown",
      "source": [
        "#listas por compresión\n",
        "forma nueva de generar listas a partir de una expresión\n",
        "Sintaxis:\n",
        "\n",
        "```\n",
        "nombre_lista=[expresión for item in iterable if condición]\n",
        "```\n",
        "\n",
        "donde:\n",
        "\n",
        "\n",
        "1.   expresión: es el valor que generará la nueva lista\n",
        "2.   item: variable que representa cada elemento dentro de la iteración\n",
        "3.   iterable: cúantos elementos va a tener la nueva lista\n",
        "4.    condición: es opcional y se emplea si los elementos deben cumplir algo\n",
        "\n"
      ],
      "metadata": {
        "id": "3z1-or2yH557"
      }
    },
    {
      "cell_type": "code",
      "source": [
        "#convertir una lista de oraciones en una lista de palabras\n",
        "oraciones=[\"aqui va una oración\",\"aqui va otra oración\",\"aqui va la tercera oración\"]\n",
        "palabras=[i.split() for i in oraciones]\n",
        "palabras"
      ],
      "metadata": {
        "colab": {
          "base_uri": "https://localhost:8080/"
        },
        "id": "XRQNul7wJObj",
        "outputId": "a5d3d1af-56f0-4f39-8a56-1bd34ed87aa3"
      },
      "execution_count": 11,
      "outputs": [
        {
          "output_type": "execute_result",
          "data": {
            "text/plain": [
              "[['aqui', 'va', 'una', 'oración'],\n",
              " ['aqui', 'va', 'otra', 'oración'],\n",
              " ['aqui', 'va', 'la', 'tercera', 'oración']]"
            ]
          },
          "metadata": {},
          "execution_count": 11
        }
      ]
    },
    {
      "cell_type": "code",
      "source": [
        "#lista con los pares de num2\n",
        "pares=[num for num in num2 if num%2==0]\n",
        "pares"
      ],
      "metadata": {
        "id": "dPw4VDDTKR5B"
      },
      "execution_count": null,
      "outputs": []
    },
    {
      "cell_type": "code",
      "source": [
        "#clasificar si un numero es positivo o negativo\n",
        "numeros=[1,4,6,-20,-2,-69,4]\n",
        "lista2=[(n,\"positivo\") if n>=0 else (n,\"negativo\") for n in numeros]\n",
        "lista2"
      ],
      "metadata": {
        "id": "BUEIDPyLLrHP"
      },
      "execution_count": null,
      "outputs": []
    },
    {
      "cell_type": "code",
      "source": [
        "while True:\n",
        "    temperaturas_str = input(\"Ingrese 10 temperaturas del día separadas por comas: \")\n",
        "    temperaturas_list = temperaturas_str.split(',')\n",
        "    if len(temperaturas_list) == 10:\n",
        "        try:\n",
        "            temperaturas = [int(temp.strip()) for temp in temperaturas_list]\n",
        "            break\n",
        "        except ValueError:\n",
        "            print(\"Entrada inválida. Por favor, asegúrese de ingresar números enteros separados por comas.\")\n",
        "    else:\n",
        "        print(f\"Entrada inválida. Ha ingresado {len(temperaturas_list)} temperaturas. Por favor, ingrese exactamente 10 temperaturas.\")\n",
        "\n",
        "clasificaciones = [(temp, \"frio\") if temp < 20 else (temp, \"templado\") if 20 <= temp <= 26 else (temp, \"cálido\") for temp in temperaturas]\n",
        "\n",
        "print(clasificaciones)"
      ],
      "metadata": {
        "colab": {
          "base_uri": "https://localhost:8080/"
        },
        "id": "UYip9biaMez_",
        "outputId": "445c5592-b0ff-4c48-cab7-aeea3b3c65fc"
      },
      "execution_count": 15,
      "outputs": [
        {
          "output_type": "stream",
          "name": "stdout",
          "text": [
            "Ingrese 10 temperaturas del día separadas por comas: 10,20,2,4,-1,3,40,15,13,17,19,\n",
            "Entrada inválida. Ha ingresado 12 temperaturas. Por favor, ingrese exactamente 10 temperaturas.\n",
            "Ingrese 10 temperaturas del día separadas por comas: 10,20,2,4,-1,3,40,15,13,17\n",
            "[(10, 'frio'), (20, 'templado'), (2, 'frio'), (4, 'frio'), (-1, 'frio'), (3, 'frio'), (40, 'cálido'), (15, 'frio'), (13, 'frio'), (17, 'frio')]\n"
          ]
        }
      ]
    },
    {
      "cell_type": "code",
      "source": [
        "#quiero obtener la inicial de cada nombre y ponelo en mayuscula\n",
        "nombres=[\"camilo\",\"Anderson\",\"Joan\"]\n",
        "lista3=[x[0]]"
      ],
      "metadata": {
        "id": "qoPj9ksiQOkJ"
      },
      "execution_count": null,
      "outputs": []
    }
  ]
}