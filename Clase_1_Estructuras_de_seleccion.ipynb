{
  "nbformat": 4,
  "nbformat_minor": 0,
  "metadata": {
    "colab": {
      "provenance": [],
      "authorship_tag": "ABX9TyMGYDTCAeVW4LEqqGfkDUw0",
      "include_colab_link": true
    },
    "kernelspec": {
      "name": "python3",
      "display_name": "Python 3"
    },
    "language_info": {
      "name": "python"
    }
  },
  "cells": [
    {
      "cell_type": "markdown",
      "metadata": {
        "id": "view-in-github",
        "colab_type": "text"
      },
      "source": [
        "<a href=\"https://colab.research.google.com/github/masog1/PROGCOM-A/blob/main/Clase_1_Estructuras_de_seleccion.ipynb\" target=\"_parent\"><img src=\"https://colab.research.google.com/assets/colab-badge.svg\" alt=\"Open In Colab\"/></a>"
      ]
    },
    {
      "cell_type": "markdown",
      "source": [
        "ESTRUCTURAS DE SELECCION\n",
        "\n",
        "\n",
        "Se emplean cuando se debe evaluar una condicion y esta da una condicion de verdad (V) o (F)."
      ],
      "metadata": {
        "id": "DRFpOTiIASN1"
      }
    },
    {
      "cell_type": "markdown",
      "source": [
        "**Estructura if-else**\n",
        "\n",
        "\n",
        "if condicion:\n",
        "   entro aqui, si la condicion es verdadera\n",
        "else:\n",
        "   entro aqui, si la condicion es falsa"
      ],
      "metadata": {
        "id": "UAsxQzr7Anmc"
      }
    },
    {
      "cell_type": "code",
      "source": [
        "#Escriba un programa que reciba un numero e indique si es positiva\n",
        "n=int(input(\"ingrese un numero \"))\n",
        "\n",
        "if n>0:\n",
        "  print(f\"{n} es un numero positivo\")\n",
        "else:\n",
        "  print(f\"{n} No es un numero positivo\")\n"
      ],
      "metadata": {
        "id": "tXAxHN2XA1V6"
      },
      "execution_count": null,
      "outputs": []
    },
    {
      "cell_type": "markdown",
      "source": [
        "Seleccion multiple if elif else\n",
        "\n",
        "\n",
        "if (condicion 1):\n",
        "   si se cumple condicion 1, entro aqui\n",
        "elif (condicion 2):\n",
        "  no se cumple la 1 pero si la 2, entro aqui\n",
        "else:\n",
        "   no se cumple ninguna"
      ],
      "metadata": {
        "id": "DF62UR4dBCK7"
      }
    },
    {
      "cell_type": "code",
      "source": [
        "n=int(input(\"ingrese un numero \"))\n",
        "\n",
        "if n>0:\n",
        "  print(f\"{n} es un numero positivo\")\n",
        "elif n<0:\n",
        "  print(f\"{n} No es un numero positivo\")\n",
        "else:\n",
        "  print(f\"{n} es 0, osea neutro\")"
      ],
      "metadata": {
        "id": "-22-zCkqBKEM"
      },
      "execution_count": null,
      "outputs": []
    },
    {
      "cell_type": "markdown",
      "source": [
        "Operador terniario\n",
        "\n",
        "\n",
        "Se usa cuando hay una condicion a evaluar simple y se desea resolver en una linea de codigo\n",
        "\n",
        "(valor de vrd) if (condicion) else (valor de falso)"
      ],
      "metadata": {
        "id": "erJgZaT1BQ77"
      }
    },
    {
      "cell_type": "code",
      "source": [
        "print(f\"{n} es un numero positivo\") if n>0 else print(f\"{n} No es un numero positivo\")"
      ],
      "metadata": {
        "id": "mjEUHNqkBXGM"
      },
      "execution_count": null,
      "outputs": []
    },
    {
      "cell_type": "code",
      "source": [
        "a=f\"{n} es un numero positivo\" if n>0 else f\"{n} No es un numero positivo\"\n",
        "print(a)"
      ],
      "metadata": {
        "id": "KTQ68VDZBdRT"
      },
      "execution_count": null,
      "outputs": []
    },
    {
      "cell_type": "markdown",
      "source": [
        "**2**"
      ],
      "metadata": {
        "id": "elaYDgc0Bdts"
      }
    },
    {
      "cell_type": "code",
      "source": [
        "n = int(input(\"Ingrese su edad en numero \"))\n",
        "if n >= 18:\n",
        "  print(\"es mayor de edad\")\n",
        "else:\n",
        "  print(\"es menor de edad\")\n"
      ],
      "metadata": {
        "id": "l_QqjMoxBfn8"
      },
      "execution_count": null,
      "outputs": []
    },
    {
      "cell_type": "code",
      "source": [
        "n = int(input(\"Ingrese su edad en numero \"))\n",
        "if n >= 21:\n",
        "  print(\"es mayor de edad en todos los paises del mundo\")\n",
        "elif n>=18:\n",
        "  print(\"es mayor de edad en colombia\")\n",
        "else:\n",
        "  print(\"es menor de edad\")\n"
      ],
      "metadata": {
        "id": "vjMqZvvvB4Jr"
      },
      "execution_count": null,
      "outputs": []
    },
    {
      "cell_type": "code",
      "source": [
        "print(\"es mayor de edad\")if n >= 18 else print(\"es menor de edad\")"
      ],
      "metadata": {
        "id": "V4_RHz1dB6AT"
      },
      "execution_count": null,
      "outputs": []
    },
    {
      "cell_type": "markdown",
      "source": [
        "**3**"
      ],
      "metadata": {
        "id": "6KPrvBmWB_Gr"
      }
    },
    {
      "cell_type": "code",
      "source": [
        "a = int(input(\"ingrese el primer numero \"))\n",
        "b = int(input(\"ingrese el segundo numero \"))\n",
        "\n",
        "if a > b:\n",
        "  print(\"a es mayor\")\n",
        "else:\n",
        "  print(\"b es mayor\")"
      ],
      "metadata": {
        "id": "CCRzKNZdCaMr"
      },
      "execution_count": null,
      "outputs": []
    },
    {
      "cell_type": "code",
      "source": [
        "a = int(input(\"ingrese el primer numero \"))\n",
        "b = int(input(\"ingrese el segundo numero \"))\n",
        "\n",
        "if a > b:\n",
        "  print(\"a es mayor\")\n",
        "elif a == b:\n",
        "  print(\"son iguales\")\n",
        "else:\n",
        "  print(\"b es mayor\")"
      ],
      "metadata": {
        "id": "VrOHVnCACdpi"
      },
      "execution_count": null,
      "outputs": []
    },
    {
      "cell_type": "code",
      "source": [
        "print(\"a es mayor\")if a > b else print(\"b es mayor\")"
      ],
      "metadata": {
        "id": "CSM2hAv8Cg36"
      },
      "execution_count": null,
      "outputs": []
    },
    {
      "cell_type": "markdown",
      "source": [
        "**4**"
      ],
      "metadata": {
        "id": "glmytAfcCnQ6"
      }
    },
    {
      "cell_type": "code",
      "source": [
        "calificacion = int(input(\"ingrese su calificacion en numero \"))\n",
        "if calificacion >= 60:\n",
        "  print(\"APROBADO\")\n",
        "else:\n",
        "  print(\"REPROBADO\")"
      ],
      "metadata": {
        "id": "3jgqkYHgCoI6"
      },
      "execution_count": null,
      "outputs": []
    },
    {
      "cell_type": "code",
      "source": [
        "calificacion = int(input(\"ingrese su calificacion en numero \"))\n",
        "if calificacion >90:\n",
        "  print(\"APROBADO CON HONORES\")\n",
        "elif calificacion >= 60:\n",
        "  print(\"APROBADO\")\n",
        "else:\n",
        "  print(\"REPROBADO\")"
      ],
      "metadata": {
        "id": "UFYvJnYUCxTK"
      },
      "execution_count": null,
      "outputs": []
    },
    {
      "cell_type": "code",
      "source": [
        "print(\"APROBADO\") if calificacion >= 60 else print(\"REPROBADO\")"
      ],
      "metadata": {
        "id": "meEEVkWmCx66"
      },
      "execution_count": null,
      "outputs": []
    },
    {
      "cell_type": "markdown",
      "source": [
        "**5**"
      ],
      "metadata": {
        "id": "IiqfIn0YC18S"
      }
    },
    {
      "cell_type": "code",
      "source": [
        "a = int(input(\"ingrese un numero de su agrado \"))\n",
        "if a % 2:\n",
        "  print(\"el numero es impar\")\n",
        "else:\n",
        "  print(\"el numeor es par\")\n"
      ],
      "metadata": {
        "id": "ruHQPd24DG0q"
      },
      "execution_count": null,
      "outputs": []
    },
    {
      "cell_type": "code",
      "source": [
        "a = int(input(\"ingrese un numero de su agrado \"))\n",
        "if a % 2:\n",
        "  print(\"el numero es impar\")\n",
        "else:\n",
        "  print(\"el numeor es par\")"
      ],
      "metadata": {
        "id": "nNpxWb2fDHVi"
      },
      "execution_count": null,
      "outputs": []
    }
  ]
}