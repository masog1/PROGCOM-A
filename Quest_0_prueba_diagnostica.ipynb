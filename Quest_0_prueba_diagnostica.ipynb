{
  "nbformat": 4,
  "nbformat_minor": 0,
  "metadata": {
    "colab": {
      "provenance": []
    },
    "kernelspec": {
      "name": "python3",
      "display_name": "Python 3"
    },
    "language_info": {
      "name": "python"
    }
  },
  "cells": [
    {
      "cell_type": "code",
      "execution_count": 2,
      "metadata": {
        "colab": {
          "base_uri": "https://localhost:8080/"
        },
        "id": "YmU5W1gCVwuD",
        "outputId": "32100e5e-9320-44b1-c63b-42fb1272a222"
      },
      "outputs": [
        {
          "output_type": "stream",
          "name": "stdout",
          "text": [
            "ingrese un número2\n",
            "el número es positivo\n"
          ]
        }
      ],
      "source": [
        "numero=float(input(\"ingrese un número\"))\n",
        "if numero >0:\n",
        "  print(\"el número es positivo\")\n",
        "elif numero==0:\n",
        "  print(\"el número es cero\")\n",
        "else:\n",
        "  print(\"el número es negativo\")"
      ]
    },
    {
      "cell_type": "code",
      "source": [
        "edad=int(input(\"ingrese su edad\"))\n",
        "if edad>=18:\n",
        "  print(\"usted es mayor de edad\")\n",
        "else:\n",
        "  print(\"usted es menor de edad\")"
      ],
      "metadata": {
        "colab": {
          "base_uri": "https://localhost:8080/"
        },
        "id": "KfqWTqsVZ3Mk",
        "outputId": "ce376b71-765e-4997-fc44-4d3b91aa25a3"
      },
      "execution_count": 4,
      "outputs": [
        {
          "output_type": "stream",
          "name": "stdout",
          "text": [
            "ingrese su edad19\n",
            "usted es mayor de edad\n"
          ]
        }
      ]
    },
    {
      "cell_type": "code",
      "source": [
        "num1=float(input(\"ingrese el primer número\"))\n",
        "num2=float(input(\"ingrese el segundo número\"))\n",
        "if num1>num2:\n",
        "  print(f\"el número mayor es {num1}\")\n",
        "elif num2>num1:\n",
        "  print(f\"el número mayor es {num2}\")"
      ],
      "metadata": {
        "colab": {
          "base_uri": "https://localhost:8080/"
        },
        "id": "v0gnc6PpaHik",
        "outputId": "20b38303-e876-4b3b-ce5f-c27e1bc05669"
      },
      "execution_count": 5,
      "outputs": [
        {
          "output_type": "stream",
          "name": "stdout",
          "text": [
            "ingrese el primer número2\n",
            "ingrese el segundo número6\n",
            "el número mayor es 6.0\n"
          ]
        }
      ]
    },
    {
      "cell_type": "code",
      "source": [
        "calificación=float(input(\"ingrese su calificación\"))\n",
        "if 0<= calificación <=100:\n",
        "  if calificación >=60:\n",
        "    print (\"aprobaste.\")\n",
        "  else:\n",
        "    print (\"reprobaste.\")\n",
        "else:\n",
        "  print (\"la calificación no es válida.\")"
      ],
      "metadata": {
        "colab": {
          "base_uri": "https://localhost:8080/"
        },
        "id": "wLMApisvaanc",
        "outputId": "d46fb9e7-f63d-4a49-fc83-7a144aa1752e"
      },
      "execution_count": 10,
      "outputs": [
        {
          "output_type": "stream",
          "name": "stdout",
          "text": [
            "ingrese su calificación78\n",
            "aprobaste.\n"
          ]
        }
      ]
    },
    {
      "cell_type": "code",
      "source": [
        "numero=int(input(\"ingrese un número entero\"))\n",
        "==0:\n"
      ],
      "metadata": {
        "id": "_5rBK810bknb"
      },
      "execution_count": null,
      "outputs": []
    },
    {
      "cell_type": "code",
      "metadata": {
        "colab": {
          "base_uri": "https://localhost:8080/"
        },
        "id": "46542144",
        "outputId": "2da6917e-4733-4244-90af-f6687b4eef0b"
      },
      "source": [
        "numero = int(input(\"ingrese un número entero\"))\n",
        "if numero % 2 == 0:\n",
        "  print(\"el número es par\")\n",
        "else:\n",
        "  print(\"el número es impar\")"
      ],
      "execution_count": 11,
      "outputs": [
        {
          "output_type": "stream",
          "name": "stdout",
          "text": [
            "ingrese un número entero8\n",
            "el número es par\n"
          ]
        }
      ]
    },
    {
      "cell_type": "code",
      "source": [],
      "metadata": {
        "id": "qKgUR3q-cVwD"
      },
      "execution_count": null,
      "outputs": []
    }
  ]
}